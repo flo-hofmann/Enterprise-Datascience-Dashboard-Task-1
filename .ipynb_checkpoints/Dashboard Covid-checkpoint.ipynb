{
 "cells": [
  {
   "cell_type": "markdown",
   "id": "e48c41b6",
   "metadata": {},
   "source": [
    "## Dashboard for Covid Data"
   ]
  },
  {
   "cell_type": "code",
   "execution_count": 1,
   "id": "edd606c1",
   "metadata": {},
   "outputs": [],
   "source": [
    "import pandas as pd\n",
    "\n",
    "import plotly.graph_objects as go\n",
    "import plotly\n",
    "import dash\n",
    "import dash_core_components as dcc\n",
    "import dash_html_components as html\n",
    "\n",
    "from dash.dependencies import Input, Output"
   ]
  },
  {
   "cell_type": "code",
   "execution_count": 2,
   "id": "b86b77d4",
   "metadata": {},
   "outputs": [],
   "source": [
    "# Read data from csv\n",
    "df_plot = pd.read_csv('./processed/COVID_small_flat_table.csv', sep=';')\n",
    "#create object for plot figure\n",
    "fig = go.Figure() "
   ]
  },
  {
   "cell_type": "code",
   "execution_count": 5,
   "id": "91c75912",
   "metadata": {},
   "outputs": [],
   "source": [
    "# create app object\n",
    "app = dash.Dash()\n",
    "\n",
    "# choose layout of html div\n",
    "app.layout = html.Div([\n",
    "    html.Label('Multi-Select Country'),\n",
    "    \n",
    "    html.H1('MY COVID DASHBOARD'),\n",
    "    \n",
    "    #create dropdown\n",
    "    dcc.Dropdown(\n",
    "        id='country_drop_down',\n",
    "        options=[\n",
    "            {'label':'Italy', 'value':'Italy'},\n",
    "            {'label':'US', 'value':'US'},\n",
    "            {'label':'Spain', 'value':'Spain'},\n",
    "            {'label':'Germany', 'value':'Germany'},\n",
    "            {'label':'Korea, South', 'value':'Korea, South'}\n",
    "        ], \n",
    "        #which values are preselected\n",
    "        value=['Germany'], \n",
    "        multi=True \n",
    "    ),\n",
    "    dcc.Graph(figure=fig, id='main_window_slope')], style={'backgroundColor':'lightblue'})\n",
    "\n"
   ]
  },
  {
   "cell_type": "code",
   "execution_count": null,
   "id": "d85e7c47",
   "metadata": {},
   "outputs": [],
   "source": [
    "# callback function for updating figure\n",
    "@app.callback(\n",
    "    Output('main_window_slope', 'figure'),\n",
    "    [Input('country_drop_down', 'value')]\n",
    ")\n",
    "\n",
    "# function to update figure\n",
    "def update_figure(country_list):\n",
    "    \n",
    "    #array with traces to be shown\n",
    "    traces = []\n",
    "    \n",
    "    for each in country_list:\n",
    "        #choose traces and select layout of traces\n",
    "        traces.append(dict(x=df_plot.date,\n",
    "                          y=df_plot[each],\n",
    "                          mode='markers+lines',\n",
    "                          opacity=0.9,\n",
    "                          line_width=2,\n",
    "                          marker_size=4,\n",
    "                          name=each\n",
    "                          template=\"plotly_dark\")\n",
    "        )\n",
    "    \n",
    "    return{\n",
    "        'data':traces,\n",
    "        #layout of dashboard\n",
    "        'layout':dict(\n",
    "            width = 1600,\n",
    "            height = 1200,\n",
    "            xaxis_title = \"Time\",\n",
    "            yaxis_title = \"Confirmed infected people (source john hopkins csse, log-scale)\",\n",
    "            xaxis={'tickangle':-45,\n",
    "            'nticks':20,\n",
    "            'tickfont':dict(size=14, color=\"#7f7f7f\")},\n",
    "            yaxis={'type':\"log\",\n",
    "                    'range':'[1.1, 8.5]'}\n",
    "         \n",
    "            )\n",
    "    }"
   ]
  },
  {
   "cell_type": "code",
   "execution_count": null,
   "id": "097266e1",
   "metadata": {},
   "outputs": [
    {
     "name": "stdout",
     "output_type": "stream",
     "text": [
      "Dash is running on http://127.0.0.1:8050/\n",
      "\n",
      "Dash is running on http://127.0.0.1:8050/\n",
      "\n",
      " * Serving Flask app \"__main__\" (lazy loading)\n",
      " * Environment: production\n",
      "   WARNING: This is a development server. Do not use it in a production deployment.\n",
      "   Use a production WSGI server instead.\n",
      " * Debug mode: on\n"
     ]
    }
   ],
   "source": [
    "# take care for pressing the stop button before call again, since address will be blocked (server up)\n",
    "app.run_server(debug=True, use_reloader=False) #Turn off reloader if inside jupyter"
   ]
  },
  {
   "cell_type": "code",
   "execution_count": null,
   "id": "fcf6cd3b",
   "metadata": {},
   "outputs": [],
   "source": [
    "print(df_plot)"
   ]
  }
 ],
 "metadata": {
  "kernelspec": {
   "display_name": "Python 3",
   "language": "python",
   "name": "python3"
  },
  "language_info": {
   "codemirror_mode": {
    "name": "ipython",
    "version": 3
   },
   "file_extension": ".py",
   "mimetype": "text/x-python",
   "name": "python",
   "nbconvert_exporter": "python",
   "pygments_lexer": "ipython3",
   "version": "3.8.8"
  }
 },
 "nbformat": 4,
 "nbformat_minor": 5
}
